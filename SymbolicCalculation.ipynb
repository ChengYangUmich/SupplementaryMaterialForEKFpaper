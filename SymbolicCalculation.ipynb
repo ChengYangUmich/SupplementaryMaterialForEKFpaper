{
 "cells": [
  {
   "cell_type": "code",
   "execution_count": 1,
   "metadata": {},
   "outputs": [],
   "source": [
    "import sympy\n",
    "from sympy import *\n",
    "from IPython.display import display\n",
    "sympy.init_printing(use_latex='mathjax')"
   ]
  },
  {
   "cell_type": "code",
   "execution_count": 2,
   "metadata": {},
   "outputs": [],
   "source": [
    "# Define state \n",
    "SNH1,SNH2,SNH3 = sympy.symbols('SNH1 SNH2 SNH3')\n",
    "state = sympy.Matrix([SNH1,SNH2,SNH3])\n",
    "\n",
    "# Define input \n",
    "QPE,QRAS,QMLE,TKN,SO1,SO2,SO3 = sympy.symbols('QPE QRAS QMLE TKN SO1 SO2 SO3')\n",
    "u = sympy.Matrix([QPE,QRAS,QMLE,TKN,SO1,SO2,SO3])\n",
    "\n",
    "# Define parameters \n",
    "r,V,KNH,KO1,KO2,KO3,fr = sympy.symbols('r V KNH KO1 KO2 KO3 fr')\n",
    "param = sympy.Matrix([r,V,KNH,KO1,KO2,KO3,fr])"
   ]
  },
  {
   "cell_type": "code",
   "execution_count": 3,
   "metadata": {},
   "outputs": [
    {
     "data": {
      "text/latex": [
       "$\\displaystyle \\left( \\left[\\begin{matrix}SNH_{1}\\\\SNH_{2}\\\\SNH_{3}\\end{matrix}\\right], \\  \\left[\\begin{matrix}QPE\\\\QRAS\\\\QMLE\\\\TKN\\\\SO_{1}\\\\SO_{2}\\\\SO_{3}\\end{matrix}\\right], \\  \\left[\\begin{matrix}r\\\\V\\\\KNH\\\\KO_{1}\\\\KO_{2}\\\\KO_{3}\\\\fr\\end{matrix}\\right]\\right)$"
      ],
      "text/plain": [
       "⎛        ⎡QPE ⎤  ⎡ r ⎤⎞\n",
       "⎜        ⎢    ⎥  ⎢   ⎥⎟\n",
       "⎜        ⎢QRAS⎥  ⎢ V ⎥⎟\n",
       "⎜        ⎢    ⎥  ⎢   ⎥⎟\n",
       "⎜⎡SNH₁⎤  ⎢QMLE⎥  ⎢KNH⎥⎟\n",
       "⎜⎢    ⎥  ⎢    ⎥  ⎢   ⎥⎟\n",
       "⎜⎢SNH₂⎥, ⎢TKN ⎥, ⎢KO₁⎥⎟\n",
       "⎜⎢    ⎥  ⎢    ⎥  ⎢   ⎥⎟\n",
       "⎜⎣SNH₃⎦  ⎢SO₁ ⎥  ⎢KO₂⎥⎟\n",
       "⎜        ⎢    ⎥  ⎢   ⎥⎟\n",
       "⎜        ⎢SO₂ ⎥  ⎢KO₃⎥⎟\n",
       "⎜        ⎢    ⎥  ⎢   ⎥⎟\n",
       "⎝        ⎣SO₃ ⎦  ⎣fr ⎦⎠"
      ]
     },
     "execution_count": 3,
     "metadata": {},
     "output_type": "execute_result"
    }
   ],
   "source": [
    "# Verify that the symbols are correct \n",
    "state,u,param "
   ]
  },
  {
   "cell_type": "code",
   "execution_count": 4,
   "metadata": {},
   "outputs": [],
   "source": [
    "Qtot = QPE + QRAS + QMLE\n",
    "# Form the dilution matrix\n",
    "D = sympy.Matrix([[-Qtot,0.,QRAS+QMLE],[Qtot,-Qtot, 0.],[0.,Qtot,-Qtot]])\n",
    "D = D/V\n",
    "\n",
    "# Form the TKN feedin matrix \n",
    "Feed = sympy.Matrix([[TKN*fr*QPE/V],[0.],[0.]])\n",
    "\n",
    "# Form the reaction matrix \n",
    "rho = r*sympy.Matrix([SO1/(SO1+KO1),SNH2/(SNH2+KNH)*SO2/(SO2+KO2),SNH3/(SNH3+KNH)*SO3/(SO3+KO3)])\n",
    "\n",
    "state_dot =  D*state + Feed + rho\n",
    "Fx = state_dot.jacobian(state)"
   ]
  },
  {
   "cell_type": "code",
   "execution_count": 5,
   "metadata": {},
   "outputs": [
    {
     "data": {
      "text/latex": [
       "$\\displaystyle \\left[\\begin{matrix}\\frac{Ts \\left(- QMLE - QPE - QRAS\\right)}{V} + 1 & 0 & \\frac{Ts \\left(QMLE + QRAS\\right)}{V}\\\\\\frac{Ts \\left(QMLE + QPE + QRAS\\right)}{V} & Ts \\left(- \\frac{SNH_{2} SO_{2} r}{\\left(KNH + SNH_{2}\\right)^{2} \\left(KO_{2} + SO_{2}\\right)} + \\frac{SO_{2} r}{\\left(KNH + SNH_{2}\\right) \\left(KO_{2} + SO_{2}\\right)} + \\frac{- QMLE - QPE - QRAS}{V}\\right) + 1 & 0\\\\0 & \\frac{Ts \\left(QMLE + QPE + QRAS\\right)}{V} & Ts \\left(- \\frac{SNH_{3} SO_{3} r}{\\left(KNH + SNH_{3}\\right)^{2} \\left(KO_{3} + SO_{3}\\right)} + \\frac{SO_{3} r}{\\left(KNH + SNH_{3}\\right) \\left(KO_{3} + SO_{3}\\right)} + \\frac{- QMLE - QPE - QRAS}{V}\\right) + 1\\end{matrix}\\right]$"
      ],
      "text/plain": [
       "⎡Ts⋅(-QMLE - QPE - QRAS)                                                      \n",
       "⎢─────────────────────── + 1                                           0      \n",
       "⎢           V                                                                 \n",
       "⎢                                                                             \n",
       "⎢  Ts⋅(QMLE + QPE + QRAS)        ⎛          SNH₂⋅SO₂⋅r                   SO₂⋅r\n",
       "⎢  ──────────────────────     Ts⋅⎜- ───────────────────────── + ──────────────\n",
       "⎢            V                   ⎜              2               (KNH + SNH₂)⋅(\n",
       "⎢                                ⎝  (KNH + SNH₂) ⋅(KO₂ + SO₂)                 \n",
       "⎢                                                                             \n",
       "⎢                                                            Ts⋅(QMLE + QPE + \n",
       "⎢             0                                              ─────────────────\n",
       "⎢                                                                      V      \n",
       "⎣                                                                             \n",
       "\n",
       "                                                                        Ts⋅(QM\n",
       "                                                                        ──────\n",
       "                                                                              \n",
       "                                                                              \n",
       "             -QMLE - QPE - QRAS⎞                                              \n",
       "────────── + ──────────────────⎟ + 1                                          \n",
       "KO₂ + SO₂)           V         ⎟                                              \n",
       "                               ⎠                                              \n",
       "                                                                              \n",
       "QRAS)                                    ⎛          SNH₃⋅SO₃⋅r                \n",
       "─────                                 Ts⋅⎜- ───────────────────────── + ──────\n",
       "                                         ⎜              2               (KNH +\n",
       "                                         ⎝  (KNH + SNH₃) ⋅(KO₃ + SO₃)         \n",
       "\n",
       "LE + QRAS)                                  ⎤\n",
       "──────────                                  ⎥\n",
       " V                                          ⎥\n",
       "                                            ⎥\n",
       "                                            ⎥\n",
       " 0                                          ⎥\n",
       "                                            ⎥\n",
       "                                            ⎥\n",
       "                                            ⎥\n",
       "   SO₃⋅r             -QMLE - QPE - QRAS⎞    ⎥\n",
       "────────────────── + ──────────────────⎟ + 1⎥\n",
       " SNH₃)⋅(KO₃ + SO₃)           V         ⎟    ⎥\n",
       "                                       ⎠    ⎦"
      ]
     },
     "execution_count": 5,
     "metadata": {},
     "output_type": "execute_result"
    }
   ],
   "source": [
    "Ts = sympy.symbols('Ts')\n",
    "Fx = state + Ts* state_dot\n",
    "Ak = Fx.jacobian(state)\n",
    "Ak"
   ]
  },
  {
   "cell_type": "code",
   "execution_count": 6,
   "metadata": {},
   "outputs": [
    {
     "name": "stdout",
     "output_type": "stream",
     "text": [
      "Matrix([[SO1/(KO1 + SO1)], [SNH2*SO2/((KNH + SNH2)*(KO2 + SO2))], [SNH3*SO3/((KNH + SNH3)*(KO3 + SO3))]])\n"
     ]
    }
   ],
   "source": [
    "\n",
    "print(rho.diff(r))"
   ]
  },
  {
   "cell_type": "code",
   "execution_count": 7,
   "metadata": {},
   "outputs": [
    {
     "data": {
      "text/latex": [
       "$\\displaystyle \\left( \\left[\\begin{matrix}SNH_{1}\\\\SNH_{2}\\\\SNH_{3}\\\\r\\end{matrix}\\right], \\  \\left[\\begin{matrix}QPE\\\\QRAS\\\\QMLE\\\\TKN\\\\SO_{1}\\\\SO_{2}\\\\SO_{3}\\end{matrix}\\right], \\  \\left[\\begin{matrix}V\\\\KNH\\\\KO_{1}\\\\KO_{2}\\\\KO_{3}\\\\fr\\end{matrix}\\right]\\right)$"
      ],
      "text/plain": [
       "⎛        ⎡QPE ⎤       ⎞\n",
       "⎜        ⎢    ⎥  ⎡ V ⎤⎟\n",
       "⎜        ⎢QRAS⎥  ⎢   ⎥⎟\n",
       "⎜⎡SNH₁⎤  ⎢    ⎥  ⎢KNH⎥⎟\n",
       "⎜⎢    ⎥  ⎢QMLE⎥  ⎢   ⎥⎟\n",
       "⎜⎢SNH₂⎥  ⎢    ⎥  ⎢KO₁⎥⎟\n",
       "⎜⎢    ⎥, ⎢TKN ⎥, ⎢   ⎥⎟\n",
       "⎜⎢SNH₃⎥  ⎢    ⎥  ⎢KO₂⎥⎟\n",
       "⎜⎢    ⎥  ⎢SO₁ ⎥  ⎢   ⎥⎟\n",
       "⎜⎣ r  ⎦  ⎢    ⎥  ⎢KO₃⎥⎟\n",
       "⎜        ⎢SO₂ ⎥  ⎢   ⎥⎟\n",
       "⎜        ⎢    ⎥  ⎣fr ⎦⎟\n",
       "⎝        ⎣SO₃ ⎦       ⎠"
      ]
     },
     "execution_count": 7,
     "metadata": {},
     "output_type": "execute_result"
    }
   ],
   "source": [
    "# Define state \n",
    "SNH1,SNH2,SNH3,r = sympy.symbols('SNH1 SNH2 SNH3,r')\n",
    "state = sympy.Matrix([SNH1,SNH2,SNH3,r])\n",
    "\n",
    "# Define input \n",
    "QPE,QRAS,QMLE,TKN,SO1,SO2,SO3 = sympy.symbols('QPE QRAS QMLE TKN SO1 SO2 SO3')\n",
    "u = sympy.Matrix([QPE,QRAS,QMLE,TKN,SO1,SO2,SO3])\n",
    "\n",
    "# Define parameters \n",
    "V,KNH,KO1,KO2,KO3,fr = sympy.symbols('V KNH KO1 KO2 KO3 fr')\n",
    "param = sympy.Matrix([V,KNH,KO1,KO2,KO3,fr])\n",
    "state,u,param"
   ]
  },
  {
   "cell_type": "code",
   "execution_count": 8,
   "metadata": {},
   "outputs": [
    {
     "data": {
      "text/latex": [
       "$\\displaystyle \\left[\\begin{matrix}0 & 0 & 0 & \\frac{SO_{1}}{KO_{1} + SO_{1}}\\\\0 & - \\frac{SNH_{2} SO_{2} r}{\\left(KNH + SNH_{2}\\right)^{2} \\left(KO_{2} + SO_{2}\\right)} + \\frac{SO_{2} r}{\\left(KNH + SNH_{2}\\right) \\left(KO_{2} + SO_{2}\\right)} & 0 & \\frac{SNH_{2} SO_{2}}{\\left(KNH + SNH_{2}\\right) \\left(KO_{2} + SO_{2}\\right)}\\\\0 & 0 & - \\frac{SNH_{3} SO_{3} r}{\\left(KNH + SNH_{3}\\right)^{2} \\left(KO_{3} + SO_{3}\\right)} + \\frac{SO_{3} r}{\\left(KNH + SNH_{3}\\right) \\left(KO_{3} + SO_{3}\\right)} & \\frac{SNH_{3} SO_{3}}{\\left(KNH + SNH_{3}\\right) \\left(KO_{3} + SO_{3}\\right)}\\\\0 & 0 & 0 & 0\\end{matrix}\\right]$"
      ],
      "text/plain": [
       "⎡                                                                             \n",
       "⎢0                            0                                               \n",
       "⎢                                                                             \n",
       "⎢                                                                             \n",
       "⎢             SNH₂⋅SO₂⋅r                   SO₂⋅r                              \n",
       "⎢0  - ───────────────────────── + ────────────────────────                    \n",
       "⎢                 2               (KNH + SNH₂)⋅(KO₂ + SO₂)                    \n",
       "⎢     (KNH + SNH₂) ⋅(KO₂ + SO₂)                                               \n",
       "⎢                                                                             \n",
       "⎢                                                                     SNH₃⋅SO₃\n",
       "⎢0                            0                             - ────────────────\n",
       "⎢                                                                         2   \n",
       "⎢                                                             (KNH + SNH₃) ⋅(K\n",
       "⎢                                                                             \n",
       "⎣0                            0                                               \n",
       "\n",
       "                                                SO₁           ⎤\n",
       "        0                                    ─────────        ⎥\n",
       "                                             KO₁ + SO₁        ⎥\n",
       "                                                              ⎥\n",
       "                                              SNH₂⋅SO₂        ⎥\n",
       "        0                             ────────────────────────⎥\n",
       "                                      (KNH + SNH₂)⋅(KO₂ + SO₂)⎥\n",
       "                                                              ⎥\n",
       "                                                              ⎥\n",
       "⋅r                   SO₃⋅r                    SNH₃⋅SO₃        ⎥\n",
       "───────── + ────────────────────────  ────────────────────────⎥\n",
       "            (KNH + SNH₃)⋅(KO₃ + SO₃)  (KNH + SNH₃)⋅(KO₃ + SO₃)⎥\n",
       "O₃ + SO₃)                                                     ⎥\n",
       "                                                              ⎥\n",
       "        0                                        0            ⎦"
      ]
     },
     "execution_count": 8,
     "metadata": {},
     "output_type": "execute_result"
    }
   ],
   "source": [
    "Qtot = QPE + QRAS + QMLE\n",
    "# Form the dilution matrix\n",
    "D = sympy.Matrix([[-Qtot,0.,QRAS+QMLE],[Qtot,-Qtot, 0.],[0.,Qtot,-Qtot]])\n",
    "D = D/V\n",
    "D = D.row_insert(3,sympy.zeros(1,3))\n",
    "D = D.col_insert(3,sympy.zeros(4,1))\n",
    "\n",
    "\n",
    "# Form the TKN feedin matrix \n",
    "Feed = sympy.Matrix([[TKN*fr*QPE/V],[0.],[0.],[0.]])\n",
    "# Form the reaction matrix \n",
    "rho = r*sympy.Matrix([SO1/(SO1+KO1),SNH2/(SNH2+KNH)*SO2/(SO2+KO2),SNH3/(SNH3+KNH)*SO3/(SO3+KO3),0])\n",
    "\n",
    "rho.jacobian(state)\n"
   ]
  },
  {
   "cell_type": "code",
   "execution_count": 9,
   "metadata": {},
   "outputs": [
    {
     "name": "stdout",
     "output_type": "stream",
     "text": [
      "Matrix([[0, 0, 0, SO1/(KO1 + SO1)], [0, -SNH2*SO2*r/((KNH + SNH2)**2*(KO2 + SO2)) + SO2*r/((KNH + SNH2)*(KO2 + SO2)), 0, SNH2*SO2/((KNH + SNH2)*(KO2 + SO2))], [0, 0, -SNH3*SO3*r/((KNH + SNH3)**2*(KO3 + SO3)) + SO3*r/((KNH + SNH3)*(KO3 + SO3)), SNH3*SO3/((KNH + SNH3)*(KO3 + SO3))], [0, 0, 0, 0]])\n"
     ]
    }
   ],
   "source": [
    "print(rho.jacobian(state))"
   ]
  }
 ],
 "metadata": {
  "hide_input": false,
  "kernelspec": {
   "display_name": "python385_64",
   "language": "python",
   "name": "python385_64"
  },
  "language_info": {
   "codemirror_mode": {
    "name": "ipython",
    "version": 3
   },
   "file_extension": ".py",
   "mimetype": "text/x-python",
   "name": "python",
   "nbconvert_exporter": "python",
   "pygments_lexer": "ipython3",
   "version": "3.8.5"
  },
  "toc": {
   "base_numbering": 1,
   "nav_menu": {},
   "number_sections": true,
   "sideBar": true,
   "skip_h1_title": false,
   "title_cell": "Table of Contents",
   "title_sidebar": "Contents",
   "toc_cell": false,
   "toc_position": {},
   "toc_section_display": true,
   "toc_window_display": false
  },
  "varInspector": {
   "cols": {
    "lenName": 16,
    "lenType": 16,
    "lenVar": 40
   },
   "kernels_config": {
    "python": {
     "delete_cmd_postfix": "",
     "delete_cmd_prefix": "del ",
     "library": "var_list.py",
     "varRefreshCmd": "print(var_dic_list())"
    },
    "r": {
     "delete_cmd_postfix": ") ",
     "delete_cmd_prefix": "rm(",
     "library": "var_list.r",
     "varRefreshCmd": "cat(var_dic_list()) "
    }
   },
   "types_to_exclude": [
    "module",
    "function",
    "builtin_function_or_method",
    "instance",
    "_Feature"
   ],
   "window_display": false
  }
 },
 "nbformat": 4,
 "nbformat_minor": 4
}
